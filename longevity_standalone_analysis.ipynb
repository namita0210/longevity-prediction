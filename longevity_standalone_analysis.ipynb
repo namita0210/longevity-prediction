{
  "metadata": {
    "kernelspec": {
      "language": "python",
      "display_name": "Python 3",
      "name": "python3"
    },
    "language_info": {
      "pygments_lexer": "ipython3",
      "nbconvert_exporter": "python",
      "version": "3.6.4",
      "file_extension": ".py",
      "codemirror_mode": {
        "name": "ipython",
        "version": 3
      },
      "name": "python",
      "mimetype": "text/x-python"
    },
    "kaggle": {
      "accelerator": "none",
      "dataSources": [
        {
          "sourceId": 4099677,
          "sourceType": "datasetVersion",
          "datasetId": 2424497
        }
      ],
      "dockerImageVersionId": 30474,
      "isInternetEnabled": false,
      "language": "python",
      "sourceType": "notebook",
      "isGpuEnabled": false
    },
    "colab": {
      "name": "longevity_standalone_analysis",
      "provenance": [],
      "include_colab_link": true
    }
  },
  "nbformat_minor": 0,
  "nbformat": 4,
  "cells": [
    {
      "cell_type": "markdown",
      "metadata": {
        "id": "view-in-github",
        "colab_type": "text"
      },
      "source": [
        "<a href=\"https://colab.research.google.com/github/namita0210/longevity-prediction/blob/main/longevity_standalone_analysis.ipynb\" target=\"_parent\"><img src=\"https://colab.research.google.com/assets/colab-badge.svg\" alt=\"Open In Colab\"/></a>"
      ]
    },
    {
      "source": [
        "\n",
        "# IMPORTANT: RUN THIS CELL IN ORDER TO IMPORT YOUR KAGGLE DATA SOURCES\n",
        "# TO THE CORRECT LOCATION (/kaggle/input) IN YOUR NOTEBOOK,\n",
        "# THEN FEEL FREE TO DELETE THIS CELL.\n",
        "# NOTE: THIS NOTEBOOK ENVIRONMENT DIFFERS FROM KAGGLE'S PYTHON\n",
        "# ENVIRONMENT SO THERE MAY BE MISSING LIBRARIES USED BY YOUR\n",
        "# NOTEBOOK.\n",
        "\n",
        "import os\n",
        "import sys\n",
        "from tempfile import NamedTemporaryFile\n",
        "from urllib.request import urlopen\n",
        "from urllib.parse import unquote, urlparse\n",
        "from urllib.error import HTTPError\n",
        "from zipfile import ZipFile\n",
        "import tarfile\n",
        "import shutil\n",
        "\n",
        "CHUNK_SIZE = 40960\n",
        "DATA_SOURCE_MAPPING = 'child-and-infant-mortality:https%3A%2F%2Fstorage.googleapis.com%2Fkaggle-data-sets%2F2424497%2F4099677%2Fbundle%2Farchive.zip%3FX-Goog-Algorithm%3DGOOG4-RSA-SHA256%26X-Goog-Credential%3Dgcp-kaggle-com%2540kaggle-161607.iam.gserviceaccount.com%252F20240208%252Fauto%252Fstorage%252Fgoog4_request%26X-Goog-Date%3D20240208T073303Z%26X-Goog-Expires%3D259200%26X-Goog-SignedHeaders%3Dhost%26X-Goog-Signature%3D103203b498c089b9760a5c066c340235c1d8ee4a13dffbd313d3288b3e08a702f4092bb81ed17225e666e9346571fa9eaf3ec71a2957ec8704c3643f4f15ab5ba28f27c5471de9f2e4f0450fd8a179bb9beba2ba1dfaac86c771d644f9425e276fbe7294a76ff6462938b110acb0ad2dec6b117b0057d7f1a2d02bf94e8da32cc2a7982e9bbac7f94df1507c1d67653a4c1615efd9d2238564aafff4a5ba5b1a89f04c664d6bc04ad3714080d262de9ad174de3609c69b1ff9fdb5a138ca1b5570f8be3a950e315166f0f329e4eabfaac35edcd52742d27dc9748c64c92acedfa368f1bb80f89a717cfdbfd42ba9c8ecdca860c8b3f6035159270d9c6edc2bb2'\n",
        "\n",
        "KAGGLE_INPUT_PATH='/kaggle/input'\n",
        "KAGGLE_WORKING_PATH='/kaggle/working'\n",
        "KAGGLE_SYMLINK='kaggle'\n",
        "\n",
        "!umount /kaggle/input/ 2> /dev/null\n",
        "shutil.rmtree('/kaggle/input', ignore_errors=True)\n",
        "os.makedirs(KAGGLE_INPUT_PATH, 0o777, exist_ok=True)\n",
        "os.makedirs(KAGGLE_WORKING_PATH, 0o777, exist_ok=True)\n",
        "\n",
        "try:\n",
        "  os.symlink(KAGGLE_INPUT_PATH, os.path.join(\"..\", 'input'), target_is_directory=True)\n",
        "except FileExistsError:\n",
        "  pass\n",
        "try:\n",
        "  os.symlink(KAGGLE_WORKING_PATH, os.path.join(\"..\", 'working'), target_is_directory=True)\n",
        "except FileExistsError:\n",
        "  pass\n",
        "\n",
        "for data_source_mapping in DATA_SOURCE_MAPPING.split(','):\n",
        "    directory, download_url_encoded = data_source_mapping.split(':')\n",
        "    download_url = unquote(download_url_encoded)\n",
        "    filename = urlparse(download_url).path\n",
        "    destination_path = os.path.join(KAGGLE_INPUT_PATH, directory)\n",
        "    try:\n",
        "        with urlopen(download_url) as fileres, NamedTemporaryFile() as tfile:\n",
        "            total_length = fileres.headers['content-length']\n",
        "            print(f'Downloading {directory}, {total_length} bytes compressed')\n",
        "            dl = 0\n",
        "            data = fileres.read(CHUNK_SIZE)\n",
        "            while len(data) > 0:\n",
        "                dl += len(data)\n",
        "                tfile.write(data)\n",
        "                done = int(50 * dl / int(total_length))\n",
        "                sys.stdout.write(f\"\\r[{'=' * done}{' ' * (50-done)}] {dl} bytes downloaded\")\n",
        "                sys.stdout.flush()\n",
        "                data = fileres.read(CHUNK_SIZE)\n",
        "            if filename.endswith('.zip'):\n",
        "              with ZipFile(tfile) as zfile:\n",
        "                zfile.extractall(destination_path)\n",
        "            else:\n",
        "              with tarfile.open(tfile.name) as tarfile:\n",
        "                tarfile.extractall(destination_path)\n",
        "            print(f'\\nDownloaded and uncompressed: {directory}')\n",
        "    except HTTPError as e:\n",
        "        print(f'Failed to load (likely expired) {download_url} to path {destination_path}')\n",
        "        continue\n",
        "    except OSError as e:\n",
        "        print(f'Failed to load {download_url} to path {destination_path}')\n",
        "        continue\n",
        "\n",
        "print('Data source import complete.')\n"
      ],
      "metadata": {
        "id": "-OSdlTFzom68"
      },
      "cell_type": "code",
      "outputs": [],
      "execution_count": null
    },
    {
      "cell_type": "code",
      "source": [],
      "metadata": {
        "id": "CdCxD_DHom6_"
      },
      "execution_count": null,
      "outputs": []
    },
    {
      "cell_type": "code",
      "source": [
        "#importing libraries\n",
        "import numpy as np # linear algebra\n",
        "import pandas as pd # data processing, CSV file I/O (e.g. pd.read_csv)\n",
        "import plotly.express as px\n",
        "import seaborn as sns\n",
        "import matplotlib.pyplot as plt\n",
        "\n",
        "import warnings\n",
        "warnings.filterwarnings(\"ignore\")"
      ],
      "metadata": {
        "_kg_hide-input": true,
        "execution": {
          "iopub.status.busy": "2023-06-21T09:42:28.412514Z",
          "iopub.execute_input": "2023-06-21T09:42:28.413118Z",
          "iopub.status.idle": "2023-06-21T09:42:29.992286Z",
          "shell.execute_reply.started": "2023-06-21T09:42:28.413064Z",
          "shell.execute_reply": "2023-06-21T09:42:29.991075Z"
        },
        "trusted": true,
        "id": "ZwW5qQYuom7A"
      },
      "execution_count": null,
      "outputs": []
    },
    {
      "cell_type": "markdown",
      "source": [
        "# Deaths in children due to Lower Respiratory Diseases\n",
        "\n",
        "Lower Respiratory Infections include Bronchitis, Bronchiolitis and Pneumonia\n",
        "\n",
        "Symptoms of pneumonia: Signs of pneumonia are a combination of respiratory symptoms, including 'cough and fast or difficult breathing due to a chest-related problem'.\n",
        "\n",
        "Lower Respiratory Infections stands to be the **biggest** reason for infant and child mortality around the world.\n",
        "\n",
        "- Infant mortality rate can be defined as the number of children less than 1 year old who die in any given year per 1000 live births.\n",
        "- Child mortality rate is the probability of dying between exact age one and age five, expressed as the number of deaths of children from exact age one to less than age five during a given period per 1,000 children surviving to age 12 months at the beginning of the period.\n",
        "\n",
        "### Summary:\n",
        "Region wise, **World Bank Lower Middle Income** countries like those with a GNI per capita between $1,086 and $4,255; (South Asia countries etc.) have the highest number of deaths due to lower respiratory infections\n",
        "\n",
        "**Nigeria** has highest number of deaths due to Lower Respiratory Diseases followed by India in 2019. The numbers are so close that it is hard to make a difference.\n",
        "\n",
        "**India forms 19.12% of the total deaths in 2019** and 30.5% of the deaths in world bank lower middle income countries, which is alarming and the country should definitely consider this as a priority.\n",
        "\n",
        "**Sub-saharan african** countries have highest child mortality rate with 209.08 deaths per 1000 live births in 2019\n",
        "\n",
        "Highest child mortality rate has been observed in **Chad with 412.58 chidren per 1000 live births** followed by Burkino Faso, a country in West Africa\n",
        "\n",
        "Deaths due to Respiratory infections is highest in India but also the difference between India and Pakistan is significantly high (5746 deaths). This may be due to difference in population of children aged between 5-14 years in the two countries.\n",
        "\n",
        "**Main factor for Lower respiratory diseases in 2019 is Child Wasting**. Wasting is often referred to as acute malnutrition. It is a sign that a child has experienced short periods of undernutrition, resulting in significant wastage of muscle and fat tissue. This means their weight is very low for their height.\n",
        "\n",
        "**Cuba has the highest percentage of children under healthcare** followed by guyana.\n",
        "India with highest number of deaths has 76% of children under healthcare. So we can say India is definitely looking into the issue but with increasing population, the country should try to increase the number in the coming years."
      ],
      "metadata": {
        "execution": {
          "iopub.status.busy": "2023-05-21T08:59:05.728442Z",
          "iopub.execute_input": "2023-05-21T08:59:05.728823Z",
          "iopub.status.idle": "2023-05-21T08:59:05.741417Z",
          "shell.execute_reply.started": "2023-05-21T08:59:05.728792Z",
          "shell.execute_reply": "2023-05-21T08:59:05.739969Z"
        },
        "id": "_XFAowjbom7A"
      }
    },
    {
      "cell_type": "markdown",
      "source": [
        "## Reasons for death in Children around the globe"
      ],
      "metadata": {
        "_kg_hide-input": true,
        "id": "aepLuytLom7B"
      }
    },
    {
      "cell_type": "code",
      "source": [
        "data1=pd.read_csv(\"/kaggle/input/child-and-infant-mortality/causes-of-death-in-children.csv\")\n",
        "data1.columns=[\"Country\",\"Code\",\"Year\",\"Malaria\",\"HIV/AIDS\",\"Meningitis\",\"Nutritional Deficiencies\",\"Other neonatal disorders\",\"Whooping Cough\",\"Lower respiratory infections\",\"Congenital birth\",\"Measles\",\"Neonatal sepsis and other neonatal infections\",\"eonatal encephalopathy due to birth asphyxia and trauma\",\"Drowning\",\"Tuberculosis\",\"Neonatal preterm birth\",\"Diarrheal diseases\",\"Neoplasms\",\"Syphilis\"]\n",
        "data1.head()"
      ],
      "metadata": {
        "_kg_hide-input": true,
        "execution": {
          "iopub.status.busy": "2023-06-21T09:42:29.995011Z",
          "iopub.execute_input": "2023-06-21T09:42:29.995547Z",
          "iopub.status.idle": "2023-06-21T09:42:30.088452Z",
          "shell.execute_reply.started": "2023-06-21T09:42:29.995496Z",
          "shell.execute_reply": "2023-06-21T09:42:30.087538Z"
        },
        "trusted": true,
        "id": "mfqAFcv7om7C"
      },
      "execution_count": null,
      "outputs": []
    },
    {
      "cell_type": "code",
      "source": [
        "data1_reasons=data1[(data1[\"Country\"]==\"World\")]"
      ],
      "metadata": {
        "execution": {
          "iopub.status.busy": "2023-06-21T09:42:30.08989Z",
          "iopub.execute_input": "2023-06-21T09:42:30.09031Z",
          "iopub.status.idle": "2023-06-21T09:42:30.103038Z",
          "shell.execute_reply.started": "2023-06-21T09:42:30.09027Z",
          "shell.execute_reply": "2023-06-21T09:42:30.10168Z"
        },
        "trusted": true,
        "id": "L7R1tX0aom7C"
      },
      "execution_count": null,
      "outputs": []
    },
    {
      "cell_type": "code",
      "source": [
        "columns=[\"Malaria\",\"HIV/AIDS\",\"Meningitis\",\"Nutritional Deficiencies\",\"Other neonatal disorders\",\"Whooping Cough\",\"Lower respiratory infections\",\"Congenital birth\",\"Measles\",\"Neonatal sepsis and other neonatal infections\",\"eonatal encephalopathy due to birth asphyxia and trauma\",\"Drowning\",\"Tuberculosis\",\"Neonatal preterm birth\",\"Diarrheal diseases\",\"Neoplasms\",\"Syphilis\"]\n",
        "data1_reasons.head()"
      ],
      "metadata": {
        "execution": {
          "iopub.status.busy": "2023-06-21T09:42:30.104899Z",
          "iopub.execute_input": "2023-06-21T09:42:30.105315Z",
          "iopub.status.idle": "2023-06-21T09:42:30.132368Z",
          "shell.execute_reply.started": "2023-06-21T09:42:30.105276Z",
          "shell.execute_reply": "2023-06-21T09:42:30.131422Z"
        },
        "trusted": true,
        "id": "QDckH4oJom7D"
      },
      "execution_count": null,
      "outputs": []
    },
    {
      "cell_type": "code",
      "source": [
        "fig = px.line(data1_reasons, x=data1_reasons[\"Year\"], y=columns, title='Infant deaths due to diseases')\n",
        "fig.show()"
      ],
      "metadata": {
        "execution": {
          "iopub.status.busy": "2023-06-21T09:42:30.135099Z",
          "iopub.execute_input": "2023-06-21T09:42:30.135942Z",
          "iopub.status.idle": "2023-06-21T09:42:32.329584Z",
          "shell.execute_reply.started": "2023-06-21T09:42:30.135896Z",
          "shell.execute_reply": "2023-06-21T09:42:32.328076Z"
        },
        "trusted": true,
        "id": "Pa_llLQwom7D"
      },
      "execution_count": null,
      "outputs": []
    },
    {
      "cell_type": "code",
      "source": [
        "rows_drop=[\"World\",\"Western Pacific Region\",\"African Region (WHO)\",\"OECD Countries\",\"East Asia and Pacific (WB)\",\"Eastern Mediterranean region (WHO)\",\"Europe & Central Asia (WB)\", \"European Region (WHO)\",\"G20\",\"Latin America & Caribbean\",\"World Bank Lower Middle Income\",\"World Bank Upper Middle Income\",\"World Bank High Income\",\"World Bank Low Income\",\"Western Pacific Region (WHO)\",\"East Asia & Pacific (WB)\",\"Middle East & North Africa (WB)\",\"North America (WB)\",\"Region of the Americas (WHO)\",\"South Asia (WB)\",\"South-East Asia Region (WHO)\",\"Sub-Saharan Africa (WB)\",\"Eastern Mediterranean Region (WHO)\",\"Latin America & Caribbean (WB)\"]\n",
        "for i in rows_drop:\n",
        "    data1.drop(data1[(data1.Country==i)].index,inplace=True)\n",
        "data1.head()"
      ],
      "metadata": {
        "_kg_hide-input": true,
        "execution": {
          "iopub.status.busy": "2023-06-21T09:42:32.331533Z",
          "iopub.execute_input": "2023-06-21T09:42:32.332116Z",
          "iopub.status.idle": "2023-06-21T09:42:32.424991Z",
          "shell.execute_reply.started": "2023-06-21T09:42:32.332065Z",
          "shell.execute_reply": "2023-06-21T09:42:32.423835Z"
        },
        "trusted": true,
        "id": "tyedREwdom7E"
      },
      "execution_count": null,
      "outputs": []
    },
    {
      "cell_type": "code",
      "source": [
        "pd.reset_option('display.max_rows',200)\n",
        "#data1.Country.unique()"
      ],
      "metadata": {
        "_kg_hide-input": true,
        "execution": {
          "iopub.status.busy": "2023-06-21T09:42:32.426669Z",
          "iopub.execute_input": "2023-06-21T09:42:32.427722Z",
          "iopub.status.idle": "2023-06-21T09:42:32.43388Z",
          "shell.execute_reply.started": "2023-06-21T09:42:32.427662Z",
          "shell.execute_reply": "2023-06-21T09:42:32.432631Z"
        },
        "trusted": true,
        "id": "XjH64J0mom7E"
      },
      "execution_count": null,
      "outputs": []
    },
    {
      "cell_type": "code",
      "source": [
        "data1_2019=data1[(data1['Year'] == 2019)]\n",
        "data1_2019.head()"
      ],
      "metadata": {
        "_kg_hide-input": true,
        "_kg_hide-output": true,
        "execution": {
          "iopub.status.busy": "2023-06-21T09:42:32.435428Z",
          "iopub.execute_input": "2023-06-21T09:42:32.435881Z",
          "iopub.status.idle": "2023-06-21T09:42:32.461746Z",
          "shell.execute_reply.started": "2023-06-21T09:42:32.435844Z",
          "shell.execute_reply": "2023-06-21T09:42:32.460335Z"
        },
        "trusted": true,
        "id": "iBKkrkatom7E"
      },
      "execution_count": null,
      "outputs": []
    },
    {
      "cell_type": "code",
      "source": [
        "data1_2019=data1_2019.drop([\"Year\",\"Country\"],axis=1).sum(axis=0)\n",
        "#data_2019=pd.DataFrame(data1_2019,index_col=[\"Object\",\"sum\"])"
      ],
      "metadata": {
        "execution": {
          "iopub.status.busy": "2023-06-21T09:42:32.463797Z",
          "iopub.execute_input": "2023-06-21T09:42:32.464343Z",
          "iopub.status.idle": "2023-06-21T09:42:32.476409Z",
          "shell.execute_reply.started": "2023-06-21T09:42:32.464287Z",
          "shell.execute_reply": "2023-06-21T09:42:32.475144Z"
        },
        "trusted": true,
        "id": "nLFoEnyrom7F"
      },
      "execution_count": null,
      "outputs": []
    },
    {
      "cell_type": "code",
      "source": [
        "Sum=[]\n",
        "for column_name, column_sum in data1_2019.items():\n",
        "    Sum.append(column_sum)\n",
        "#Sum"
      ],
      "metadata": {
        "execution": {
          "iopub.status.busy": "2023-06-21T09:42:32.478035Z",
          "iopub.execute_input": "2023-06-21T09:42:32.478566Z",
          "iopub.status.idle": "2023-06-21T09:42:32.490497Z",
          "shell.execute_reply.started": "2023-06-21T09:42:32.478524Z",
          "shell.execute_reply": "2023-06-21T09:42:32.48927Z"
        },
        "trusted": true,
        "id": "NGAaxdg3om7F"
      },
      "execution_count": null,
      "outputs": []
    },
    {
      "cell_type": "code",
      "source": [
        "fig = px.bar(data1_2019, x=data1_2019.keys(), y=Sum, title=\"Reasons for deaths in children\")\n",
        "fig.update_layout(\n",
        "    xaxis_title=\"Diseases\",\n",
        "    yaxis_title=\"Deaths\"\n",
        ")\n",
        "\n",
        "fig.show()"
      ],
      "metadata": {
        "execution": {
          "iopub.status.busy": "2023-06-21T09:42:32.49224Z",
          "iopub.execute_input": "2023-06-21T09:42:32.492679Z",
          "iopub.status.idle": "2023-06-21T09:42:32.596421Z",
          "shell.execute_reply.started": "2023-06-21T09:42:32.492641Z",
          "shell.execute_reply": "2023-06-21T09:42:32.595222Z"
        },
        "trusted": true,
        "id": "DPGNC2NVom7F"
      },
      "execution_count": null,
      "outputs": []
    },
    {
      "cell_type": "markdown",
      "source": [
        "**Observations:**\n",
        "- Highest deaths in children in the year 2019 was due to Lower Respiratory diseases followed by Neonatal Preterm birth\n",
        "- Lower respiratory diseases make up 15% of the total deaths in 2019\n",
        "- Lower respiratory disease include: Bronchitis, Bronchiolitis and Pneumonia.\n",
        "- Preterm is defined as babies born alive before 37 weeks of pregnancy are completed."
      ],
      "metadata": {
        "id": "Amjxajwoom7F"
      }
    },
    {
      "cell_type": "markdown",
      "source": [
        "## Region-wise deaths in children due to Lower Respiratory Diseases"
      ],
      "metadata": {
        "id": "Q5i1IE4Bom7F"
      }
    },
    {
      "cell_type": "code",
      "source": [
        "data2 = pd.read_csv(\"/kaggle/input/child-and-infant-mortality/causes-of-death-in-children.csv\")\n",
        "data2.columns=[\"Country\",\"Code\",\"Year\",\"Malaria\",\"HIV/AIDS\",\"Meningitis\",\"Nutritional Deficiencies\",\"Other neonatal disorders\",\"Whooping Cough\",\"Lower respiratory infections\",\"Congenital birth\",\"Measles\",\"Neonatal sepsis and other neonatal infections\",\"eonatal encephalopathy due to birth asphyxia and trauma\",\"Drowning\",\"Tuberculosis\",\"Neonatal preterm birth\",\"Diarrheal diseases\",\"Neoplasms\",\"Syphilis\"]\n",
        "data2=data2.loc[data2['Country'].isin(rows_drop)]"
      ],
      "metadata": {
        "execution": {
          "iopub.status.busy": "2023-06-21T09:42:32.598429Z",
          "iopub.execute_input": "2023-06-21T09:42:32.599061Z",
          "iopub.status.idle": "2023-06-21T09:42:32.633884Z",
          "shell.execute_reply.started": "2023-06-21T09:42:32.598998Z",
          "shell.execute_reply": "2023-06-21T09:42:32.632421Z"
        },
        "trusted": true,
        "id": "0yMUf3sBom7F"
      },
      "execution_count": null,
      "outputs": []
    },
    {
      "cell_type": "code",
      "source": [
        "data2.head()"
      ],
      "metadata": {
        "execution": {
          "iopub.status.busy": "2023-06-21T09:42:32.635968Z",
          "iopub.execute_input": "2023-06-21T09:42:32.636404Z",
          "iopub.status.idle": "2023-06-21T09:42:32.65898Z",
          "shell.execute_reply.started": "2023-06-21T09:42:32.636362Z",
          "shell.execute_reply": "2023-06-21T09:42:32.657724Z"
        },
        "trusted": true,
        "id": "BhYbjTZBom7G"
      },
      "execution_count": null,
      "outputs": []
    },
    {
      "cell_type": "code",
      "source": [
        "fig = px.line(data2, x=\"Year\", y=\"Lower respiratory infections\", color='Country',title=\"Region wise deaths in children due to Lower respiratory diseases: Trend analysis\")\n",
        "fig.show()"
      ],
      "metadata": {
        "execution": {
          "iopub.status.busy": "2023-06-21T09:42:32.665724Z",
          "iopub.execute_input": "2023-06-21T09:42:32.666338Z",
          "iopub.status.idle": "2023-06-21T09:42:32.833883Z",
          "shell.execute_reply.started": "2023-06-21T09:42:32.666294Z",
          "shell.execute_reply": "2023-06-21T09:42:32.832874Z"
        },
        "trusted": true,
        "id": "q8l0iTVVom7G"
      },
      "execution_count": null,
      "outputs": []
    },
    {
      "cell_type": "code",
      "source": [
        "420.181/671.928"
      ],
      "metadata": {
        "execution": {
          "iopub.status.busy": "2023-06-21T09:42:32.835331Z",
          "iopub.execute_input": "2023-06-21T09:42:32.836327Z",
          "iopub.status.idle": "2023-06-21T09:42:32.845032Z",
          "shell.execute_reply.started": "2023-06-21T09:42:32.836282Z",
          "shell.execute_reply": "2023-06-21T09:42:32.843667Z"
        },
        "trusted": true,
        "id": "W719HDDgom7G"
      },
      "execution_count": null,
      "outputs": []
    },
    {
      "cell_type": "code",
      "source": [
        "data2_region=data2[(data2['Year'] == 2019) & (data2[\"Country\"]!=\"World\")]"
      ],
      "metadata": {
        "execution": {
          "iopub.status.busy": "2023-06-21T09:42:32.846891Z",
          "iopub.execute_input": "2023-06-21T09:42:32.847408Z",
          "iopub.status.idle": "2023-06-21T09:42:32.857915Z",
          "shell.execute_reply.started": "2023-06-21T09:42:32.847357Z",
          "shell.execute_reply": "2023-06-21T09:42:32.856687Z"
        },
        "trusted": true,
        "id": "f7RsQJOYom7G"
      },
      "execution_count": null,
      "outputs": []
    },
    {
      "cell_type": "code",
      "source": [
        "fig = px.bar(data2_region, x=\"Country\", y=data2_region[\"Lower respiratory infections\"], title=\"Region wise deaths due to Lower Respiratory Diseases\")\n",
        "fig.show()"
      ],
      "metadata": {
        "execution": {
          "iopub.status.busy": "2023-06-21T09:42:32.859927Z",
          "iopub.execute_input": "2023-06-21T09:42:32.860457Z",
          "iopub.status.idle": "2023-06-21T09:42:32.940499Z",
          "shell.execute_reply.started": "2023-06-21T09:42:32.860403Z",
          "shell.execute_reply": "2023-06-21T09:42:32.93921Z"
        },
        "trusted": true,
        "id": "eBRH_rd6om7G"
      },
      "execution_count": null,
      "outputs": []
    },
    {
      "cell_type": "markdown",
      "source": [
        "**Observations:**\n",
        "- Region wise, World Bank Lower Middle Income countries like  those with a GNI per capita between \\\\$1,086 and \\\\$4,255; (South Asia countries etc.) have the highest number of deaths due to lower respiratory infections\n",
        "-World bank Lower Middle Income Countries although observe a steady decrease in deaths from 1990 to 2019 are still facing the highest number of deaths in chidren in 2019 with 420.181k deaths which is about 62% of the total around the world"
      ],
      "metadata": {
        "id": "DccAyhnjom7G"
      }
    },
    {
      "cell_type": "markdown",
      "source": [
        "## Country-wise deaths in children due to Lower Respiratory Diseases"
      ],
      "metadata": {
        "id": "H_M9rZfZom7G"
      }
    },
    {
      "cell_type": "code",
      "source": [
        "fig = px.line(data1, x=\"Year\", y=\"Lower respiratory infections\", color='Country',title=\"Country wise deaths in children due to Lower Respiratory Diseases\")\n",
        "fig.show()"
      ],
      "metadata": {
        "execution": {
          "iopub.status.busy": "2023-06-21T09:42:32.942678Z",
          "iopub.execute_input": "2023-06-21T09:42:32.943226Z"
        },
        "trusted": true,
        "id": "ouuf4Vy8om7G"
      },
      "execution_count": null,
      "outputs": []
    },
    {
      "cell_type": "code",
      "source": [
        "data1_country=data1[(data1['Year'] == 2019)]\n",
        "data1_country.sort_values(by=\"Lower respiratory infections\")"
      ],
      "metadata": {
        "trusted": true,
        "id": "ADSGcr8hom7G"
      },
      "execution_count": null,
      "outputs": []
    },
    {
      "cell_type": "code",
      "source": [
        "fig = px.bar(data1_country, x=\"Country\", y=data1_country[\"Lower respiratory infections\"], title=\"Country wise deaths due to Lower Respiratory Diseases\")\n",
        "fig.show()"
      ],
      "metadata": {
        "trusted": true,
        "id": "599KBrKmom7G"
      },
      "execution_count": null,
      "outputs": []
    },
    {
      "cell_type": "code",
      "source": [
        "129.44/671.928\n",
        "129.44/347.237"
      ],
      "metadata": {
        "trusted": true,
        "id": "gP3m7aHhom7H"
      },
      "execution_count": null,
      "outputs": []
    },
    {
      "cell_type": "markdown",
      "source": [
        "**Observations:**\n",
        "- Nigeria has highest number of deaths due to Lower Respiratory Diseases followed by India in 2019. The numbers are so close that it is hard to make a difference.\n",
        "- Observing the trend from 1990 to 2019, we can see that China had a steady drop in deaths 1990 to 2003. Nigeria had no improvement from 1990 to 2019 which is surprising since there has been development in the healthcare in all parts of the world over the years.\n",
        "- India forms 19.12% of the total deaths in 2019 and 30.5% of the deaths in world bank lower middle income countries, which is alarming and the country should definitely consider this as a priority.\n",
        "- Nigeria forms 19.26% of the total deaths in 2019 and 37.27% of the deaths in African region."
      ],
      "metadata": {
        "id": "ldS-Dwdbom7H"
      }
    },
    {
      "cell_type": "markdown",
      "source": [
        "## Child mortality due to pneumonia"
      ],
      "metadata": {
        "id": "qQfxGqGNom7H"
      }
    },
    {
      "cell_type": "code",
      "source": [
        "data3=pd.read_csv(\"/kaggle/input/child-and-infant-mortality/pneumonia-death-rates-in-children-under-5.csv\")\n",
        "data3.head()"
      ],
      "metadata": {
        "execution": {
          "iopub.execute_input": "2023-06-21T09:42:34.154754Z",
          "iopub.status.idle": "2023-06-21T09:42:34.192481Z",
          "shell.execute_reply.started": "2023-06-21T09:42:34.154717Z",
          "shell.execute_reply": "2023-06-21T09:42:34.191277Z"
        },
        "trusted": true,
        "id": "RKN8yL25om7H"
      },
      "execution_count": null,
      "outputs": []
    },
    {
      "cell_type": "code",
      "source": [
        "data3_2=pd.read_csv(\"/kaggle/input/child-and-infant-mortality/pneumonia-death-rates-in-children-under-5.csv\")\n",
        "rows_drop=[\"Western Pacific Region\",\"African Region (WHO)\",\"OECD Countries\",\"East Asia and Pacific (WB)\",\"Eastern Mediterranean region (WHO)\",\"Europe & Central Asia (WB)\", \"European Region (WHO)\",\"G20\",\"Latin America & Caribbean\",\"World Bank Lower Middle Income\",\"World Bank Upper Middle Income\",\"World Bank High Income\",\"World Bank Low Income\",\"Western Pacific Region (WHO)\",\"East Asia & Pacific (WB)\",\"Middle East & North Africa (WB)\",\"North America (WB)\",\"Region of the Americas (WHO)\",\"South Asia (WB)\",\"South-East Asia Region (WHO)\",\"Sub-Saharan Africa (WB)\",\"Eastern Mediterranean Region (WHO)\",\"Latin America & Caribbean (WB)\"]\n",
        "data3_region=data3_2.loc[data3_2['Entity'].isin(rows_drop)]"
      ],
      "metadata": {
        "_kg_hide-input": true,
        "execution": {
          "iopub.status.busy": "2023-06-21T09:42:34.194284Z",
          "iopub.execute_input": "2023-06-21T09:42:34.194816Z",
          "iopub.status.idle": "2023-06-21T09:42:34.216739Z",
          "shell.execute_reply.started": "2023-06-21T09:42:34.194763Z",
          "shell.execute_reply": "2023-06-21T09:42:34.215322Z"
        },
        "trusted": true,
        "id": "uxpMn98Tom7H"
      },
      "execution_count": null,
      "outputs": []
    },
    {
      "cell_type": "code",
      "source": [
        "data3_region=data3_region[(data3_region['Year'] == 2019)]\n",
        "data3_region"
      ],
      "metadata": {
        "execution": {
          "iopub.status.busy": "2023-06-21T09:42:34.218411Z",
          "iopub.execute_input": "2023-06-21T09:42:34.218818Z",
          "iopub.status.idle": "2023-06-21T09:42:34.236594Z",
          "shell.execute_reply.started": "2023-06-21T09:42:34.218779Z",
          "shell.execute_reply": "2023-06-21T09:42:34.235131Z"
        },
        "trusted": true,
        "id": "MBwNpybMom7H"
      },
      "execution_count": null,
      "outputs": []
    },
    {
      "cell_type": "code",
      "source": [
        "fig = px.bar(data3_region, x=\"Entity\", y=\"Deaths - Lower respiratory infections - Sex: Both - Age: Under 5 (Rate)\", color='Entity', title='Child mortality rate due to Lower Respiratory Diseases- Region wise')\n",
        "fig.show()"
      ],
      "metadata": {
        "execution": {
          "iopub.status.busy": "2023-06-21T09:42:34.239464Z",
          "iopub.execute_input": "2023-06-21T09:42:34.239991Z",
          "iopub.status.idle": "2023-06-21T09:42:34.419455Z",
          "shell.execute_reply.started": "2023-06-21T09:42:34.239945Z",
          "shell.execute_reply": "2023-06-21T09:42:34.418213Z"
        },
        "trusted": true,
        "id": "MX1Ldc3tom7H"
      },
      "execution_count": null,
      "outputs": []
    },
    {
      "cell_type": "markdown",
      "source": [
        "**Observations:**\n",
        "- Sub-saharan african countries have highest child mortality rate with 209.08 deaths per 1000 live births in 2019"
      ],
      "metadata": {
        "id": "A1ijikKYom7I"
      }
    },
    {
      "cell_type": "code",
      "source": [
        "rows_drop=[\"World\",\"Western Pacific Region\",\"African Region (WHO)\",\"OECD Countries\",\"East Asia and Pacific (WB)\",\"Eastern Mediterranean region (WHO)\",\"Europe & Central Asia (WB)\", \"European Region (WHO)\",\"G20\",\"Latin America & Caribbean\",\"World Bank Lower Middle Income\",\"World Bank Upper Middle Income\",\"World Bank High Income\",\"World Bank Low Income\",\"Western Pacific Region (WHO)\",\"East Asia & Pacific (WB)\",\"Middle East & North Africa (WB)\",\"North America (WB)\",\"Region of the Americas (WHO)\",\"South Asia (WB)\",\"South-East Asia Region (WHO)\",\"Sub-Saharan Africa (WB)\",\"Eastern Mediterranean Region (WHO)\",\"Latin America & Caribbean (WB)\"]\n",
        "for i in rows_drop:\n",
        "    data3.drop(data3[(data3.Entity==i)].index,inplace=True)"
      ],
      "metadata": {
        "_kg_hide-input": true,
        "execution": {
          "iopub.status.busy": "2023-06-21T09:42:34.421655Z",
          "iopub.execute_input": "2023-06-21T09:42:34.422175Z",
          "iopub.status.idle": "2023-06-21T09:42:34.494059Z",
          "shell.execute_reply.started": "2023-06-21T09:42:34.422114Z",
          "shell.execute_reply": "2023-06-21T09:42:34.492635Z"
        },
        "trusted": true,
        "id": "KonxQLeAom7I"
      },
      "execution_count": null,
      "outputs": []
    },
    {
      "cell_type": "code",
      "source": [
        "data3_country=data3[(data3['Year'] == 2019)]"
      ],
      "metadata": {
        "execution": {
          "iopub.status.busy": "2023-06-21T09:42:34.496188Z",
          "iopub.execute_input": "2023-06-21T09:42:34.496693Z",
          "iopub.status.idle": "2023-06-21T09:42:34.503879Z",
          "shell.execute_reply.started": "2023-06-21T09:42:34.496637Z",
          "shell.execute_reply": "2023-06-21T09:42:34.502523Z"
        },
        "trusted": true,
        "id": "MaT4Puf4om7I"
      },
      "execution_count": null,
      "outputs": []
    },
    {
      "cell_type": "code",
      "source": [
        "fig = px.bar(data3_country, x=\"Entity\", y=\"Deaths - Lower respiratory infections - Sex: Both - Age: Under 5 (Rate)\", color='Entity', title='Child mortality rate due to Lower Respiratory Diseases- Country wise Age: Under 5')\n",
        "fig.show()"
      ],
      "metadata": {
        "execution": {
          "iopub.status.busy": "2023-06-21T09:42:34.505632Z",
          "iopub.execute_input": "2023-06-21T09:42:34.506777Z"
        },
        "trusted": true,
        "id": "px358E9Xom7I"
      },
      "execution_count": null,
      "outputs": []
    },
    {
      "cell_type": "markdown",
      "source": [
        "**Observations:**\n",
        "- Highest child mortality rate has been observed in Chad with 412.58 chidren per 1000 live births followed by Burkino Faso, a country in West Africa"
      ],
      "metadata": {
        "id": "U3Ghy2aSom7M"
      }
    },
    {
      "cell_type": "code",
      "source": [
        "data4=pd.read_csv(\"/kaggle/input/child-and-infant-mortality/pneumonia-and-lower-respiratory-diseases-deaths.csv\")\n",
        "data4.columns=[\"Country\",\"Code\", \"Year\",\"Under 5\",\"Age: 50-69 years\",\"Age: 15-49 years\",\"Age: 5-14 years\",\"Age: 70+ years\"]\n",
        "data4.drop([\"Age: 50-69 years\",\"Age: 15-49 years\",\"Age: 70+ years\"],axis=1,inplace=True)\n",
        "rows_drop=[\"World\",\"Western Pacific Region\",\"African Region (WHO)\",\"OECD Countries\",\"East Asia and Pacific (WB)\",\"Eastern Mediterranean region (WHO)\",\"Europe & Central Asia (WB)\", \"European Region (WHO)\",\"G20\",\"Latin America & Caribbean\",\"World Bank Lower Middle Income\",\"World Bank Upper Middle Income\",\"World Bank High Income\",\"World Bank Low Income\",\"Western Pacific Region (WHO)\",\"East Asia & Pacific (WB)\",\"Middle East & North Africa (WB)\",\"North America (WB)\",\"Region of the Americas (WHO)\",\"South Asia (WB)\",\"South-East Asia Region (WHO)\",\"Sub-Saharan Africa (WB)\",\"Eastern Mediterranean Region (WHO)\",\"Latin America & Caribbean (WB)\"]\n",
        "for i in rows_drop:\n",
        "    data4.drop(data4[(data4.Country==i)].index,inplace=True)\n",
        "data4.head()"
      ],
      "metadata": {
        "_kg_hide-input": true,
        "trusted": true,
        "id": "FiGb2nj5om7M"
      },
      "execution_count": null,
      "outputs": []
    },
    {
      "cell_type": "code",
      "source": [
        "data4.Year.unique()"
      ],
      "metadata": {
        "trusted": true,
        "id": "978L1bNqom7M"
      },
      "execution_count": null,
      "outputs": []
    },
    {
      "cell_type": "code",
      "source": [
        "data4_2=pd.read_csv(\"/kaggle/input/child-and-infant-mortality/pneumonia-and-lower-respiratory-diseases-deaths.csv\")\n",
        "data4_2.columns=[\"Country\",\"Code\", \"Year\",\"Under 5\",\"Age: 50-69 years\",\"Age: 15-49 years\",\"Age: 5-14 years\",\"Age: 70+ years\"]\n",
        "data4_2.drop([\"Age: 50-69 years\",\"Age: 15-49 years\",\"Age: 70+ years\"],axis=1,inplace=True)\n",
        "rows_drop=[\"Western Pacific Region\",\"African Region (WHO)\",\"OECD Countries\",\"East Asia and Pacific (WB)\",\"Eastern Mediterranean region (WHO)\",\"Europe & Central Asia (WB)\", \"European Region (WHO)\",\"G20\",\"Latin America & Caribbean\",\"World Bank Lower Middle Income\",\"World Bank Upper Middle Income\",\"World Bank High Income\",\"World Bank Low Income\",\"Western Pacific Region (WHO)\",\"East Asia & Pacific (WB)\",\"Middle East & North Africa (WB)\",\"North America (WB)\",\"Region of the Americas (WHO)\",\"South Asia (WB)\",\"South-East Asia Region (WHO)\",\"Sub-Saharan Africa (WB)\",\"Eastern Mediterranean Region (WHO)\",\"Latin America & Caribbean (WB)\"]\n",
        "data4_2=data4_2.loc[data4_2['Country'].isin(rows_drop)]"
      ],
      "metadata": {
        "_kg_hide-input": true,
        "trusted": true,
        "id": "N0WbdHEgom7N"
      },
      "execution_count": null,
      "outputs": []
    },
    {
      "cell_type": "code",
      "source": [
        "data4_2=data4_2[(data4_2['Year'] == 2019)]"
      ],
      "metadata": {
        "trusted": true,
        "id": "19RuDsAaom7N"
      },
      "execution_count": null,
      "outputs": []
    },
    {
      "cell_type": "code",
      "source": [
        "fig = px.bar(data4_2, x=\"Country\", y=\"Age: 5-14 years\", color='Country', title='Deaths in age 5-14 due to Lower Respiratory Diseases- Region Wise')\n",
        "fig.show()"
      ],
      "metadata": {
        "trusted": true,
        "id": "VBdW8fkrom7N"
      },
      "execution_count": null,
      "outputs": []
    },
    {
      "cell_type": "markdown",
      "source": [
        "-  World Bank Lower Middle Income countries like  those with a GNI per capita between \\\\$1,086 and \\\\$4,255; (South Asian countries etc.) had the highest number of deaths due to lower respiratory infections in the age group of 5-14 years in year 2019 with 24.981k deaths\n",
        "- The difference in deaths between World Bank Lower Middle Income countries and other regions is significant with a difference of 7k with second highest region Sub-saharan Africa"
      ],
      "metadata": {
        "id": "TIycFO8nom7N"
      }
    },
    {
      "cell_type": "code",
      "source": [
        "data4_country=data4[(data4['Year'] == 2019)]"
      ],
      "metadata": {
        "trusted": true,
        "id": "VVoJJKL0om7N"
      },
      "execution_count": null,
      "outputs": []
    },
    {
      "cell_type": "code",
      "source": [
        "fig = px.bar(data4_country, x=\"Country\", y=\"Age: 5-14 years\", title='Deaths in age 5-14 due to Lower Respiratory Diseases- Country wise')\n",
        "fig.show()"
      ],
      "metadata": {
        "trusted": true,
        "id": "s8jTcxHYom7N"
      },
      "execution_count": null,
      "outputs": []
    },
    {
      "cell_type": "code",
      "source": [
        "8.946/24.98"
      ],
      "metadata": {
        "trusted": true,
        "id": "9c__NmGqom7N"
      },
      "execution_count": null,
      "outputs": []
    },
    {
      "cell_type": "markdown",
      "source": [
        "**observations**:\n",
        "- Deaths due to Respiratory infections is highest in India but also the difference between India and Pakistan is significantly high (5746 deaths). This may be due to difference in population of children aged between 5-14 years in the two countries.\n",
        "- India forms 35.81% of deaths in world bank lower middle income countries in 2019."
      ],
      "metadata": {
        "id": "Kv0Z6Cx2om7N"
      }
    },
    {
      "cell_type": "markdown",
      "source": [
        "## Lower Respiratory Diseases Risk Factors"
      ],
      "metadata": {
        "id": "hEDkL6pGom7N"
      }
    },
    {
      "cell_type": "code",
      "source": [
        "data5=pd.read_csv(\"/kaggle/input/child-and-infant-mortality/pneumonia-risk-factors.csv\")\n",
        "data5.columns=[\"Country\",\"Code\",\"Year\",\"Risk: Child stunting\", \"Risk: Child wasting\",\"Risk: Low birth weight\",\"Risk: No access to handwashing facility\",\"Risk: Secondhand smoke\",\"Risk: Child underweight\", \"Risk: Household air pollution from solid fuels\",\"Risk: Non-exclusive breastfeeding\",\"Risk: Short gestation\"]\n",
        "rows_drop=[\"World\",\"Western Pacific Region\",\"African Region (WHO)\",\"OECD Countries\",\"East Asia and Pacific (WB)\",\"Eastern Mediterranean region (WHO)\",\"Europe & Central Asia (WB)\", \"European Region (WHO)\",\"G20\",\"Latin America & Caribbean\",\"World Bank Lower Middle Income\",\"World Bank Upper Middle Income\",\"World Bank High Income\",\"World Bank Low Income\",\"Western Pacific Region (WHO)\",\"East Asia & Pacific (WB)\",\"Middle East & North Africa (WB)\",\"North America (WB)\",\"Region of the Americas (WHO)\",\"South Asia (WB)\",\"South-East Asia Region (WHO)\",\"Sub-Saharan Africa (WB)\",\"Eastern Mediterranean Region (WHO)\",\"Latin America & Caribbean (WB)\"]\n",
        "for i in rows_drop:\n",
        "    data5.drop(data5[(data5.Country==i)].index,inplace=True)\n",
        "data5.head()"
      ],
      "metadata": {
        "_kg_hide-input": true,
        "execution": {
          "iopub.status.idle": "2023-06-21T09:42:36.237083Z",
          "shell.execute_reply.started": "2023-06-21T09:42:36.133053Z",
          "shell.execute_reply": "2023-06-21T09:42:36.235892Z"
        },
        "trusted": true,
        "id": "27hS9-6jom7N"
      },
      "execution_count": null,
      "outputs": []
    },
    {
      "cell_type": "code",
      "source": [
        "#data4.Year.unique()"
      ],
      "metadata": {
        "execution": {
          "iopub.status.busy": "2023-06-21T09:42:36.238786Z",
          "iopub.execute_input": "2023-06-21T09:42:36.239287Z",
          "iopub.status.idle": "2023-06-21T09:42:36.244519Z",
          "shell.execute_reply.started": "2023-06-21T09:42:36.239239Z",
          "shell.execute_reply": "2023-06-21T09:42:36.243225Z"
        },
        "trusted": true,
        "id": "Y-rFPanZom7O"
      },
      "execution_count": null,
      "outputs": []
    },
    {
      "cell_type": "code",
      "source": [
        "data5_2019=data5[(data5['Year'] == 2019)]"
      ],
      "metadata": {
        "_kg_hide-input": true,
        "execution": {
          "iopub.status.busy": "2023-06-21T09:42:36.246222Z",
          "iopub.execute_input": "2023-06-21T09:42:36.246672Z",
          "iopub.status.idle": "2023-06-21T09:42:36.255963Z",
          "shell.execute_reply.started": "2023-06-21T09:42:36.246635Z",
          "shell.execute_reply": "2023-06-21T09:42:36.254592Z"
        },
        "trusted": true,
        "id": "aUmNNsrUom7O"
      },
      "execution_count": null,
      "outputs": []
    },
    {
      "cell_type": "code",
      "source": [
        "columns=[\"Risk: Child stunting\", \"Risk: Child wasting\",\"Risk: Low birth weight\",\"Risk: No access to handwashing facility\",\"Risk: Secondhand smoke\",\"Risk: Child underweight\", \"Risk: Household air pollution from solid fuels\",\"Risk: Non-exclusive breastfeeding\",\"Risk: Short gestation\"]\n",
        "l={}\n",
        "for i in columns:\n",
        "    l.update({i:data5_2019[i].sum()})"
      ],
      "metadata": {
        "_kg_hide-input": true,
        "execution": {
          "iopub.status.busy": "2023-06-21T09:42:36.258173Z",
          "iopub.execute_input": "2023-06-21T09:42:36.258665Z",
          "iopub.status.idle": "2023-06-21T09:42:36.27189Z",
          "shell.execute_reply.started": "2023-06-21T09:42:36.258619Z",
          "shell.execute_reply": "2023-06-21T09:42:36.270648Z"
        },
        "trusted": true,
        "id": "BcxHRXVBom7O"
      },
      "execution_count": null,
      "outputs": []
    },
    {
      "cell_type": "code",
      "source": [
        "l"
      ],
      "metadata": {
        "_kg_hide-input": true,
        "_kg_hide-output": true,
        "execution": {
          "iopub.status.busy": "2023-06-21T09:42:36.28206Z",
          "iopub.execute_input": "2023-06-21T09:42:36.282974Z",
          "iopub.status.idle": "2023-06-21T09:42:36.291649Z",
          "shell.execute_reply.started": "2023-06-21T09:42:36.282914Z",
          "shell.execute_reply": "2023-06-21T09:42:36.290391Z"
        },
        "trusted": true,
        "id": "pJbbG0Y1om7O"
      },
      "execution_count": null,
      "outputs": []
    },
    {
      "cell_type": "code",
      "source": [
        "# Get the Keys and store them in a list\n",
        "labels = list(l.keys())\n",
        "\n",
        "# Get the Values and store them in a list\n",
        "values = list(l.values())"
      ],
      "metadata": {
        "_kg_hide-input": true,
        "execution": {
          "iopub.status.busy": "2023-06-21T09:42:36.293612Z",
          "iopub.execute_input": "2023-06-21T09:42:36.294075Z",
          "iopub.status.idle": "2023-06-21T09:42:36.30588Z",
          "shell.execute_reply.started": "2023-06-21T09:42:36.294032Z",
          "shell.execute_reply": "2023-06-21T09:42:36.304648Z"
        },
        "trusted": true,
        "id": "aYY3H47jom7O"
      },
      "execution_count": null,
      "outputs": []
    },
    {
      "cell_type": "code",
      "source": [
        "import matplotlib.pyplot as plt\n",
        "\n",
        "plt.pie(values, labels=labels)\n",
        "plt.title(\"Risk Factors of Lower Respiratory Diseases\")\n",
        "plt.show()"
      ],
      "metadata": {
        "execution": {
          "iopub.status.busy": "2023-06-21T09:42:36.307455Z",
          "iopub.execute_input": "2023-06-21T09:42:36.307837Z",
          "iopub.status.idle": "2023-06-21T09:42:36.600871Z",
          "shell.execute_reply.started": "2023-06-21T09:42:36.307803Z",
          "shell.execute_reply": "2023-06-21T09:42:36.599551Z"
        },
        "trusted": true,
        "id": "E_j-kU7aom7O"
      },
      "execution_count": null,
      "outputs": []
    },
    {
      "cell_type": "markdown",
      "source": [
        "**Observations:**\n",
        "- Main factor for Lower respiratory diseases in 2019 is Child Wasting. Wasting is often referred to as acute malnutrition. It is a sign that a child has experienced short periods of undernutrition, resulting in significant wastage of muscle and fat tissue. This means their weight is very low for their height.\n",
        "- Child low birth weight follows child wasting as the second main factor in 2019."
      ],
      "metadata": {
        "id": "Kb2yrM23om7P"
      }
    },
    {
      "cell_type": "markdown",
      "source": [
        "## Percentage of children taken care in healthcare in 2014"
      ],
      "metadata": {
        "id": "fZRmj2nmom7P"
      }
    },
    {
      "cell_type": "code",
      "source": [
        "data6=pd.read_csv(\"/kaggle/input/child-and-infant-mortality/pneumonia-careseeking.csv\")\n",
        "data6.head()"
      ],
      "metadata": {
        "execution": {
          "iopub.status.busy": "2023-06-21T09:42:36.602611Z",
          "iopub.execute_input": "2023-06-21T09:42:36.602998Z",
          "iopub.status.idle": "2023-06-21T09:42:36.624697Z",
          "shell.execute_reply.started": "2023-06-21T09:42:36.602963Z",
          "shell.execute_reply": "2023-06-21T09:42:36.623684Z"
        },
        "trusted": true,
        "id": "q27seXrJom7P"
      },
      "execution_count": null,
      "outputs": []
    },
    {
      "cell_type": "code",
      "source": [
        "data6_2014=data6[(data6['Year'] == 2014)]"
      ],
      "metadata": {
        "_kg_hide-input": true,
        "execution": {
          "iopub.status.busy": "2023-06-21T09:42:36.626066Z",
          "iopub.execute_input": "2023-06-21T09:42:36.626767Z",
          "iopub.status.idle": "2023-06-21T09:42:36.634655Z",
          "shell.execute_reply.started": "2023-06-21T09:42:36.626723Z",
          "shell.execute_reply": "2023-06-21T09:42:36.63325Z"
        },
        "trusted": true,
        "id": "G5ZZmcSzom7P"
      },
      "execution_count": null,
      "outputs": []
    },
    {
      "cell_type": "code",
      "source": [
        "#fig = px.line(data6, x=\"Year\", y=\"Percentage of children under 5 with symptoms of pneumonia taken for care to a health provider\", color='Entity', title='Percentage of children under 5 with symptoms of pneumonia taken for care to a health provider')\n",
        "#fig.show()"
      ],
      "metadata": {
        "execution": {
          "iopub.status.busy": "2023-06-21T09:42:36.636388Z",
          "iopub.execute_input": "2023-06-21T09:42:36.636861Z",
          "iopub.status.idle": "2023-06-21T09:42:36.647863Z",
          "shell.execute_reply.started": "2023-06-21T09:42:36.636819Z",
          "shell.execute_reply": "2023-06-21T09:42:36.646432Z"
        },
        "trusted": true,
        "id": "DLDFWjW2om7P"
      },
      "execution_count": null,
      "outputs": []
    },
    {
      "cell_type": "code",
      "source": [
        "data6_2014.sort_values(by=\"Percentage of children under 5 with symptoms of pneumonia taken for care to a health provider\")"
      ],
      "metadata": {
        "execution": {
          "iopub.status.busy": "2023-06-21T09:43:02.346931Z",
          "iopub.execute_input": "2023-06-21T09:43:02.347501Z",
          "iopub.status.idle": "2023-06-21T09:43:02.370208Z",
          "shell.execute_reply.started": "2023-06-21T09:43:02.34745Z",
          "shell.execute_reply": "2023-06-21T09:43:02.368828Z"
        },
        "trusted": true,
        "id": "E6SjQ888om7P"
      },
      "execution_count": null,
      "outputs": []
    },
    {
      "cell_type": "code",
      "source": [
        "fig = px.bar(data6_2014, x='Code', y='Percentage of children under 5 with symptoms of pneumonia taken for care to a health provider')\n",
        "fig.show()"
      ],
      "metadata": {
        "execution": {
          "iopub.status.busy": "2023-06-21T09:43:13.680858Z",
          "iopub.execute_input": "2023-06-21T09:43:13.68139Z",
          "iopub.status.idle": "2023-06-21T09:43:13.765815Z",
          "shell.execute_reply.started": "2023-06-21T09:43:13.681338Z",
          "shell.execute_reply": "2023-06-21T09:43:13.764482Z"
        },
        "trusted": true,
        "id": "ngSxDN0Fom7Q"
      },
      "execution_count": null,
      "outputs": []
    },
    {
      "cell_type": "markdown",
      "source": [
        "**Observations:**\n",
        "- Cuba has the highest percentage of children under healthcare followed by guyana.\n",
        "- India with highest number of deaths has 76% of children under healthcare. So we can say India is definitely looking into the issue but with increasing population, the country should try to increase the number in the coming years."
      ],
      "metadata": {
        "id": "GCWyGjHzom7Q"
      }
    }
  ]
}