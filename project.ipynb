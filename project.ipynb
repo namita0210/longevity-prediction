{
 "cells": [
  {
   "cell_type": "code",
   "execution_count": 2,
   "metadata": {},
   "outputs": [],
   "source": [
    "import pandas as pd"
   ]
  },
  {
   "cell_type": "code",
   "execution_count": 15,
   "metadata": {},
   "outputs": [],
   "source": [
    "path = (r'C:\\Users\\namit\\OneDrive\\Desktop\\Longevity Research Project\\neonatal-deaths-by-cause.csv')\n",
    "df = pd.read_csv(path)"
   ]
  },
  {
   "cell_type": "code",
   "execution_count": 16,
   "metadata": {},
   "outputs": [
    {
     "data": {
      "text/html": [
       "<div>\n",
       "<style scoped>\n",
       "    .dataframe tbody tr th:only-of-type {\n",
       "        vertical-align: middle;\n",
       "    }\n",
       "\n",
       "    .dataframe tbody tr th {\n",
       "        vertical-align: top;\n",
       "    }\n",
       "\n",
       "    .dataframe thead th {\n",
       "        text-align: right;\n",
       "    }\n",
       "</style>\n",
       "<table border=\"1\" class=\"dataframe\">\n",
       "  <thead>\n",
       "    <tr style=\"text-align: right;\">\n",
       "      <th></th>\n",
       "      <th>Entity</th>\n",
       "      <th>Year</th>\n",
       "      <th>Diarrhea</th>\n",
       "      <th>Congenital birth defects</th>\n",
       "      <th>Hemolytic and jaundice</th>\n",
       "      <th>Malaria</th>\n",
       "      <th>Lower respiratory infections</th>\n",
       "      <th>Meningitis</th>\n",
       "      <th>encephalopathy</th>\n",
       "      <th>Preterm birth</th>\n",
       "      <th>Tetanus</th>\n",
       "      <th>Unspecified infectious diseases</th>\n",
       "      <th>Other neonatal disorders</th>\n",
       "      <th>Sepsis</th>\n",
       "      <th>STD</th>\n",
       "    </tr>\n",
       "  </thead>\n",
       "  <tbody>\n",
       "    <tr>\n",
       "      <th>0</th>\n",
       "      <td>Afghanistan</td>\n",
       "      <td>1990</td>\n",
       "      <td>486</td>\n",
       "      <td>4872</td>\n",
       "      <td>348</td>\n",
       "      <td>2</td>\n",
       "      <td>3989</td>\n",
       "      <td>199</td>\n",
       "      <td>1435</td>\n",
       "      <td>5491</td>\n",
       "      <td>1894</td>\n",
       "      <td>63</td>\n",
       "      <td>5811</td>\n",
       "      <td>363</td>\n",
       "      <td>99</td>\n",
       "    </tr>\n",
       "    <tr>\n",
       "      <th>1</th>\n",
       "      <td>Afghanistan</td>\n",
       "      <td>1991</td>\n",
       "      <td>598</td>\n",
       "      <td>5493</td>\n",
       "      <td>390</td>\n",
       "      <td>3</td>\n",
       "      <td>4396</td>\n",
       "      <td>218</td>\n",
       "      <td>1633</td>\n",
       "      <td>6159</td>\n",
       "      <td>2352</td>\n",
       "      <td>76</td>\n",
       "      <td>6281</td>\n",
       "      <td>453</td>\n",
       "      <td>107</td>\n",
       "    </tr>\n",
       "    <tr>\n",
       "      <th>2</th>\n",
       "      <td>Afghanistan</td>\n",
       "      <td>1992</td>\n",
       "      <td>765</td>\n",
       "      <td>6542</td>\n",
       "      <td>467</td>\n",
       "      <td>5</td>\n",
       "      <td>5184</td>\n",
       "      <td>257</td>\n",
       "      <td>1964</td>\n",
       "      <td>7358</td>\n",
       "      <td>2901</td>\n",
       "      <td>94</td>\n",
       "      <td>7193</td>\n",
       "      <td>577</td>\n",
       "      <td>146</td>\n",
       "    </tr>\n",
       "    <tr>\n",
       "      <th>3</th>\n",
       "      <td>Afghanistan</td>\n",
       "      <td>1993</td>\n",
       "      <td>973</td>\n",
       "      <td>7235</td>\n",
       "      <td>530</td>\n",
       "      <td>2</td>\n",
       "      <td>5862</td>\n",
       "      <td>290</td>\n",
       "      <td>2189</td>\n",
       "      <td>8280</td>\n",
       "      <td>3153</td>\n",
       "      <td>104</td>\n",
       "      <td>7852</td>\n",
       "      <td>627</td>\n",
       "      <td>192</td>\n",
       "    </tr>\n",
       "    <tr>\n",
       "      <th>4</th>\n",
       "      <td>Afghanistan</td>\n",
       "      <td>1994</td>\n",
       "      <td>971</td>\n",
       "      <td>7500</td>\n",
       "      <td>560</td>\n",
       "      <td>4</td>\n",
       "      <td>6216</td>\n",
       "      <td>306</td>\n",
       "      <td>2280</td>\n",
       "      <td>8658</td>\n",
       "      <td>3328</td>\n",
       "      <td>107</td>\n",
       "      <td>8126</td>\n",
       "      <td>637</td>\n",
       "      <td>210</td>\n",
       "    </tr>\n",
       "  </tbody>\n",
       "</table>\n",
       "</div>"
      ],
      "text/plain": [
       "        Entity  Year  Diarrhea  Congenital birth defects  \\\n",
       "0  Afghanistan  1990       486                      4872   \n",
       "1  Afghanistan  1991       598                      5493   \n",
       "2  Afghanistan  1992       765                      6542   \n",
       "3  Afghanistan  1993       973                      7235   \n",
       "4  Afghanistan  1994       971                      7500   \n",
       "\n",
       "   Hemolytic and jaundice  Malaria  Lower respiratory infections  Meningitis  \\\n",
       "0                     348        2                          3989         199   \n",
       "1                     390        3                          4396         218   \n",
       "2                     467        5                          5184         257   \n",
       "3                     530        2                          5862         290   \n",
       "4                     560        4                          6216         306   \n",
       "\n",
       "   encephalopathy  Preterm birth  Tetanus  Unspecified infectious diseases  \\\n",
       "0            1435           5491     1894                               63   \n",
       "1            1633           6159     2352                               76   \n",
       "2            1964           7358     2901                               94   \n",
       "3            2189           8280     3153                              104   \n",
       "4            2280           8658     3328                              107   \n",
       "\n",
       "   Other neonatal disorders  Sepsis  STD  \n",
       "0                      5811     363   99  \n",
       "1                      6281     453  107  \n",
       "2                      7193     577  146  \n",
       "3                      7852     627  192  \n",
       "4                      8126     637  210  "
      ]
     },
     "execution_count": 16,
     "metadata": {},
     "output_type": "execute_result"
    }
   ],
   "source": [
    "df.head()"
   ]
  },
  {
   "cell_type": "code",
   "execution_count": 25,
   "metadata": {},
   "outputs": [
    {
     "data": {
      "text/plain": [
       "array([1990, 1991, 1992, 1993, 1994, 1995, 1996, 1997, 1998, 1999, 2000,\n",
       "       2001, 2002, 2003, 2004, 2005, 2006, 2007, 2008, 2009, 2010, 2011,\n",
       "       2012, 2013, 2014, 2015, 2016, 2017, 2018, 2019], dtype=int64)"
      ]
     },
     "execution_count": 25,
     "metadata": {},
     "output_type": "execute_result"
    }
   ],
   "source": [
    "df['Year'].unique()"
   ]
  },
  {
   "cell_type": "code",
   "execution_count": 26,
   "metadata": {},
   "outputs": [
    {
     "data": {
      "text/plain": [
       "29"
      ]
     },
     "execution_count": 26,
     "metadata": {},
     "output_type": "execute_result"
    }
   ],
   "source": [
    "2019-1990\n"
   ]
  },
  {
   "cell_type": "code",
   "execution_count": null,
   "metadata": {},
   "outputs": [],
   "source": []
  }
 ],
 "metadata": {
  "kernelspec": {
   "display_name": "baby",
   "language": "python",
   "name": "python3"
  },
  "language_info": {
   "codemirror_mode": {
    "name": "ipython",
    "version": 3
   },
   "file_extension": ".py",
   "mimetype": "text/x-python",
   "name": "python",
   "nbconvert_exporter": "python",
   "pygments_lexer": "ipython3",
   "version": "3.11.3"
  }
 },
 "nbformat": 4,
 "nbformat_minor": 2
}
